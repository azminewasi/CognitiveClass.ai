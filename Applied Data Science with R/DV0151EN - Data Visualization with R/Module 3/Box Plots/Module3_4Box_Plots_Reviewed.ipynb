{
 "cells": [
  {
   "cell_type": "markdown",
   "metadata": {
    "collapsed": true
   },
   "source": [
    "<a href=\"https://www.bigdatauniversity.com\"><img src = \"https://ibm.box.com/shared/static/wbqvbi6o6ip0vz55ua5gp17g4f1k7ve9.png\" width = 300, align = \"center\"></a>\n",
    "\n",
    "<h1 align=center><font size = 5>BOX PLOTS</font></h1>\n",
    "\n",
    "<hr>"
   ]
  },
  {
   "cell_type": "markdown",
   "metadata": {},
   "source": [
    "## Table of Contents\n",
    "\n",
    "\n",
    "<div class=\"alert alert-block alert-info\" style=\"margin-top: 20px\">\n",
    "<li><p><a href=\"#ref0\">Introduction</a></p></li>\n",
    "<li><p><a href=\"#ref1\">Box Plot</a></p></li>\n",
    "<br>\n",
    "<p></p>\n",
    "Estimated Time Needed: <strong>15 min</strong>\n",
    "</div>\n",
    "\n",
    "<hr>"
   ]
  },
  {
   "cell_type": "markdown",
   "metadata": {},
   "source": [
    "<a id=\"ref0\"></a>\n",
    "## <center>Introduction</center>\n",
    "\n",
    "In this notebook, we are going to explore how to create box plots in R. Box plots are a convenient way to represent the degree of dispersion (spread) and skewness in the data, and show outliers without making any assumption of the underlying statistical distribution.Let us first install the package plotly."
   ]
  },
  {
   "cell_type": "code",
   "execution_count": 2,
   "metadata": {
    "collapsed": false,
    "scrolled": true
   },
   "outputs": [
    {
     "name": "stderr",
     "output_type": "stream",
     "text": [
      "Installing package into ‘/resources/common/R/Library’\n",
      "(as ‘lib’ is unspecified)\n",
      "also installing the dependencies ‘htmltools’, ‘jsonlite’, ‘yaml’, ‘viridisLite’, ‘htmlwidgets’, ‘hexbin’, ‘purrr’\n",
      "\n",
      "Loading required package: ggplot2\n",
      "\n",
      "Attaching package: ‘plotly’\n",
      "\n",
      "The following object is masked from ‘package:ggplot2’:\n",
      "\n",
      "    last_plot\n",
      "\n",
      "The following object is masked from ‘package:stats’:\n",
      "\n",
      "    filter\n",
      "\n",
      "The following object is masked from ‘package:graphics’:\n",
      "\n",
      "    layout\n",
      "\n",
      "The following objects are masked from ‘package:SparkR’:\n",
      "\n",
      "    arrange, distinct, filter, group_by, mutate, rename, schema, select\n",
      "\n"
     ]
    }
   ],
   "source": [
    "install.packages(\"plotly\")\n",
    "library(plotly)"
   ]
  },
  {
   "cell_type": "markdown",
   "metadata": {},
   "source": [
    "<a id=\"ref1\"></a>\n",
    "## <center>Box Plot</center>\n",
    "\n",
    "First, we generate data to represent with a box plot. We will use two normal distributions with slightly different parameters to generate our samples so you can see the effect it has on the plot. "
   ]
  },
  {
   "cell_type": "code",
   "execution_count": 3,
   "metadata": {
    "collapsed": false
   },
   "outputs": [
    {
     "data": {
      "text/plain": [
       "  label     value\n",
       "1     A -1.414131\n",
       "2     A  1.554858\n",
       "3     A  3.168882\n",
       "4     A -3.691395\n",
       "5     A  1.858249\n",
       "6     A  2.012112"
      ]
     },
     "execution_count": 3,
     "metadata": {},
     "output_type": "execute_result"
    },
    {
     "data": {
      "text/plain": [
       "    label       value\n",
       "395     B  0.52874502\n",
       "396     B  0.78939440\n",
       "397     B  0.45709951\n",
       "398     B  0.53883312\n",
       "399     B  0.01464312\n",
       "400     B -0.91648914"
      ]
     },
     "execution_count": 3,
     "metadata": {},
     "output_type": "execute_result"
    }
   ],
   "source": [
    "#making the results reproducible\n",
    "set.seed(1234)\n",
    "\n",
    "set_a <- rnorm(200, mean=1, sd=2)\n",
    "set_b <- rnorm(200, mean=0, sd=1)\n",
    "\n",
    "#create the data frame\n",
    "df <- data.frame(label = factor(rep(c(\"A\",\"B\"), each=200)), value = c(set_a, set_b))\n",
    "\n",
    "#output both the first and last rows\n",
    "head(df)\n",
    "tail(df)"
   ]
  },
  {
   "cell_type": "markdown",
   "metadata": {},
   "source": [
    "As you can see, we have randomly generated two sets, labelling them respectively A and B.\n",
    "\n",
    "### geom_bloxplot()\n",
    "\n",
    "We create a plot with the ggplot function and specify the x and y-axis of the plot. Then we add the boxplot to our plot, which results in creating one boxplot for each value of x."
   ]
  },
  {
   "cell_type": "code",
   "execution_count": 4,
   "metadata": {
    "collapsed": false
   },
   "outputs": [
    {
     "data": {
      "text/plain": []
     },
     "execution_count": 4,
     "metadata": {},
     "output_type": "execute_result"
    },
    {
     "data": {
      "image/png": "[encoded data removed]"
     },
     "metadata": {},
     "output_type": "display_data"
    },
    {
     "data": {
      "text/plain": []
     },
     "execution_count": 4,
     "metadata": {},
     "output_type": "execute_result"
    }
   ],
   "source": [
    "ggplot(df, aes(x=label, y=value)) + geom_boxplot()\n",
    "\n",
    "ggplotly()"
   ]
  },
  {
   "cell_type": "markdown",
   "metadata": {
    "collapsed": false
   },
   "source": [
    "### Now onto a brief explanation of what a box plot is, for those who don't know\n",
    "\n",
    "As was briefly metioned in the Introduction section, box plots are good to indicate dispertion. They do so by providing visual representations in terms of [quartiles](https://en.wikipedia.org/wiki/Quartile).\n",
    "\n",
    "- The thickest line in the middle of the rectangle represents the median value (second quartile). \n",
    "- The bottom and top of the rectangle represent the first and third quartiles, respectively. \n",
    "- The height of the rectangle equals the [IQR (interquatile range)](https://en.wikipedia.org/wiki/Interquartile_range), which is the difference between the first and third quartiles.\n",
    "- The superior line reaches up to the largest value that is not larger than $1.5$*IQR; Values that are larger are considered outliers and represented as dots. (the inferior line is analogous)."
   ]
  },
  {
   "cell_type": "markdown",
   "metadata": {
    "collapsed": true
   },
   "source": [
    "### About the Author:  \n",
    "Hi! It's [Hugo Sales Correa](https://www.linkedin.com/in/hugo-sales-correa-143a22109), the authors of this notebook. We hope you found R easy to learn! There's lots more to learn about R but you're well on your way. Feel free to connect with us if you have any questions."
   ]
  },
  {
   "cell_type": "markdown",
   "metadata": {},
   "source": [
    "<hr>\n",
    "Copyright &copy; 2016 [Big Data University](https://bigdatauniversity.com/?utm_source=bducopyrightlink&utm_medium=dswb&utm_campaign=bdu). This notebook and its source code are released under the terms of the [MIT License](https://bigdatauniversity.com/mit-license/)."
   ]
  }
 ],
 "metadata": {
  "kernelspec": {
   "display_name": "R",
   "language": "",
   "name": "ir"
  },
  "language_info": {
   "codemirror_mode": "r",
   "file_extension": ".r",
   "mimetype": "text/x-r-source",
   "name": "R",
   "pygments_lexer": "r"
  },
  "widgets": {
   "state": {},
   "version": "1.1.2"
  }
 },
 "nbformat": 4,
 "nbformat_minor": 0
}
