{
 "cells": [
  {
   "cell_type": "markdown",
   "metadata": {},
   "source": [
    "<center><img src = \"https://cf-courses-data.s3.us.cloud-object-storage.appdomain.cloud/IBMDeveloperSkillsNetwork-RP0103EN-SkillsNetwork/labs/module%201/images/IDSNlogo.png\" width = 250></center>\n",
    "\n",
    "<h1 align=center><font size = 5>Hands-on Lab: Perform K-Means Clustering Analysis with R</h1>\n"
   ]
  },
  {
   "cell_type": "markdown",
   "metadata": {},
   "source": [
    "### Welcome!\n",
    "\n",
    "In this hands-on lab, we will perform the following tasks to illustrate the use of in-database anayltics in Db2 on Cloud using ibmdbR.\n"
   ]
  },
  {
   "cell_type": "markdown",
   "metadata": {},
   "source": [
    "<div class=\"alert alert-block alert-info\" style=\"margin-top: 20px\">\n",
    "<h3>Tasks</h3>\n",
    "<ol><ol><ol>\n",
    "<li><a href=\"#refa\">Pre-requisites</a></li>\n",
    "<li><a href=\"#refb\">Load the ibmdbR package</a></li>\n",
    "<li><a href=\"#refc\">Connect to your Db2 on Cloud database</a></li>\n",
    "<li><a href=\"#refd\">Create a table with data</a></li>\n",
    "<li><a href=\"#refe\">Analyze the data</a></li>\n",
    "<li><a href=\"#reff\">Dis-connect</a></li>\n",
    "</ol></ol></ol>\n",
    "<br>\n",
    "Estimated Time Needed: <strong>30 min</strong>\n",
    "</div>\n"
   ]
  },
  {
   "cell_type": "markdown",
   "metadata": {},
   "source": [
    "<a id=\"refa\"></a>\n",
    "\n",
    "<h3>a. Pre-requisites</h3>\n"
   ]
  },
  {
   "cell_type": "markdown",
   "metadata": {},
   "source": [
    "In this lab we will use Jupyter Notebooks within SN Labs to access data in a Db2 on Cloud database using RODBC.  Information about Jupyter notebooks, SN Labs, and Db2 services is provided in the previous labs.\n"
   ]
  },
  {
   "cell_type": "markdown",
   "metadata": {},
   "source": [
    "<a id=\"refb\"></a>\n",
    "\n",
    "<h3>b. Load the ibmdbR package</h3>\n",
    "<br>\n",
    "Let's start by loading the <b>ibmdbR</b> package. <b>ibmdbR</b> utilizes RODBC to connect to interact with the database so ensure that the database is accessable using RODBC. Let’s load the <b>ibmdbR</b> package by clicking on the following cell and executing it (Shift+Enter):\n"
   ]
  },
  {
   "cell_type": "code",
   "execution_count": null,
   "metadata": {
    "collapsed": false,
    "jupyter": {
     "outputs_hidden": false
    }
   },
   "outputs": [],
   "source": [
    "library(ibmdbR);"
   ]
  },
  {
   "cell_type": "markdown",
   "metadata": {},
   "source": [
    "<a id=\"refc\"></a>\n",
    "\n",
    "<h3>c. Connect to your Db2 on Cloud database</h3>\n"
   ]
  },
  {
   "cell_type": "markdown",
   "metadata": {},
   "source": [
    "Enter the other connection details for your instance of Db2 on Cloud:\n"
   ]
  },
  {
   "cell_type": "code",
   "execution_count": null,
   "metadata": {},
   "outputs": [],
   "source": []
  },
  {
   "cell_type": "markdown",
   "metadata": {},
   "source": [
    "<details>\n",
    "<summary>Click here to view/hide hint</summary>\n",
    "<p>\n",
    "\n",
    "```\n",
    "# Fill in the ...\n",
    "driver.name <- \"...\"    # this matches entry in odbc.ini for DB2 driver\n",
    "db.name <- \"...\"     \n",
    "host.name <- \"host...\" \n",
    "port <- \"...\"         \n",
    "protocol=\"...\"        \n",
    "user.name <- \"...\" \n",
    "pwd <- \"...\"       \n",
    "dsnstr <- paste(driver....,\n",
    "                  \";Data...=\",....name,\n",
    "                  \";Host...=\",....name,\n",
    "                  \";Port...=\",...,\n",
    "                  \";PROTOCOL=\",..., sep=\"...\")\n",
    "```\n",
    "\n",
    "</details>\n"
   ]
  },
  {
   "cell_type": "markdown",
   "metadata": {},
   "source": [
    "<details>\n",
    "<summary>Click here to view/hide solution</summary>\n",
    "<p>\n",
    "\n",
    "```\n",
    "driver.name <- \"DB2\"    # this matches entry in odbc.ini for DB2 driver\n",
    "db.name <- \"BLUDB\"      # e.g. BLUDB\n",
    "host.name <- \"hostname\" # e.g.  \"dashdb-txn-sbox-yp-dal09-11.services.dal.bluemix.net\"\n",
    "port <- \"50000\"         # e.g.  50000\n",
    "protocol=\"TCPIP\"        # i.e. TCPIP\n",
    "user.name <- \"username\" # e.g.  \"zjh17769\"\n",
    "pwd <- \"password\"       # e.g. \"zcwd4+8gbq9bm5k4\"\n",
    "dsnstr <- paste(driver.name,\n",
    "                  \";Database=\",db.name,\n",
    "                  \";Hostname=\",host.name,\n",
    "                  \";Port=\",port,\n",
    "                  \";PROTOCOL=\",protocol, sep=\"\")\n",
    "```\n",
    "\n",
    "</details>\n"
   ]
  },
  {
   "cell_type": "markdown",
   "metadata": {},
   "source": [
    "Now create a connection string and connect to the database using idaConnect().  Syntax and arguments for this function follow:\n",
    "\n",
    "<div class=\"alert alert-block alert-info\" style=\"margin-top: 20px\">\n",
    "<b>Usage</b><br>\n",
    "idaConnect(dsn, uid = \"\", pwd = \"\", conType = \"odbc\")\n",
    "<p>\n",
    "<b>Arguments</b><br>\n",
    "  dsn -     The DSN of the data base.<br>\n",
    "  uid -    The user name.<br>\n",
    "  pwd -    The password.<br>\n",
    "  conType - The connection type. <br>\n"
   ]
  },
  {
   "cell_type": "markdown",
   "metadata": {},
   "source": [
    "Add code to connect to the database (example: con <- idaConnect(...))\n"
   ]
  },
  {
   "cell_type": "code",
   "execution_count": null,
   "metadata": {},
   "outputs": [],
   "source": []
  },
  {
   "cell_type": "markdown",
   "metadata": {},
   "source": [
    "<details>\n",
    "<summary>Click here to view/hide hint</summary>\n",
    "<p>\n",
    "\n",
    "```\n",
    "# Fill in the ...\n",
    "con <- ida...(dsn..., uid=....name, p...=...)\n",
    "```\n",
    "\n",
    "</details>\n"
   ]
  },
  {
   "cell_type": "markdown",
   "metadata": {},
   "source": [
    "<details>\n",
    "<summary>Click here to view/hide solution</summary>\n",
    "<p>\n",
    "\n",
    "```\n",
    "con <- idaConnect(dsnstr, uid=user.name, pwd=pwd)\n",
    "```\n",
    "\n",
    "</details>\n"
   ]
  },
  {
   "cell_type": "markdown",
   "metadata": {},
   "source": [
    "Now let's initialize the In Database Analytics functions using idaInit() <br>\n",
    "\n",
    "<div class=\"alert alert-block alert-info\" style=\"margin-top: 20px\">\n",
    "<b>Usage</b><br>\n",
    "idaInit(con,jobDescription=NULL)<br>\n",
    "<br>\n",
    "<b>Arguments</b><br>\n",
    "con - An open RODBC connection.<br>\n",
    "jobDescription - Optional argument that allows to assign a description to the jobs submitted from the R session<br>\n",
    "</div>\n"
   ]
  },
  {
   "cell_type": "code",
   "execution_count": null,
   "metadata": {
    "collapsed": false,
    "jupyter": {
     "outputs_hidden": false
    }
   },
   "outputs": [],
   "source": []
  },
  {
   "cell_type": "markdown",
   "metadata": {},
   "source": [
    "<details>\n",
    "<summary>Click here to view/hide hint</summary>\n",
    "<p>\n",
    "\n",
    "```\n",
    "# Fill in the ...\n",
    "ida...(...) \n",
    "```\n",
    "\n",
    "</details>\n"
   ]
  },
  {
   "cell_type": "markdown",
   "metadata": {},
   "source": [
    "<details>\n",
    "<summary>Click here to view/hide solution</summary>\n",
    "<p>\n",
    "\n",
    "```\n",
    "idaInit(con) \n",
    "```\n",
    "\n",
    "</details>\n"
   ]
  },
  {
   "cell_type": "markdown",
   "metadata": {},
   "source": [
    "Let's test to check our connection was established successfully by using idaShowTables() to get a list of tables.\n",
    "\n",
    "<div class=\"alert alert-block alert-info\" style=\"margin-top: 20px\">\n",
    "Tip: The list might be long ... single or double click on the left side just below Out [linenumber] to minimize the output result\n",
    "</div>\n"
   ]
  },
  {
   "cell_type": "code",
   "execution_count": null,
   "metadata": {
    "collapsed": false,
    "jupyter": {
     "outputs_hidden": false
    },
    "scrolled": true
   },
   "outputs": [],
   "source": []
  },
  {
   "cell_type": "markdown",
   "metadata": {},
   "source": [
    "<details>\n",
    "<summary>Click here to view/hide hint</summary>\n",
    "<p>\n",
    "\n",
    "```\n",
    "# Fill in the ...\n",
    "ida...(show...=...)\n",
    "```\n",
    "\n",
    "</details>\n"
   ]
  },
  {
   "cell_type": "markdown",
   "metadata": {},
   "source": [
    "<details>\n",
    "<summary>Click here to view/hide Solution</summary>\n",
    "<p>\n",
    "\n",
    "```\n",
    "idaShowTables(showAll=TRUE)\n",
    "```\n",
    "\n",
    "</details>\n"
   ]
  },
  {
   "cell_type": "markdown",
   "metadata": {},
   "source": [
    "<a id=\"refd\"></a>\n",
    "\n",
    "<h3>d. Create table with data</h3>\n",
    "<br>\n",
    "Our R environment contains a sample dataset called mtcars that contains certain attributes (like mileage, cylinders, horsepower, etc.) about 32 automobiles. If you are not familiar with this dataset, lets first take a look at it.\n"
   ]
  },
  {
   "cell_type": "markdown",
   "metadata": {},
   "source": [
    "Load the mtcars library.\n"
   ]
  },
  {
   "cell_type": "code",
   "execution_count": null,
   "metadata": {
    "collapsed": false,
    "jupyter": {
     "outputs_hidden": false
    }
   },
   "outputs": [],
   "source": []
  },
  {
   "cell_type": "markdown",
   "metadata": {},
   "source": [
    "<details>\n",
    "<summary>Click here to view/hide hint</summary>\n",
    "<p>\n",
    "\n",
    "```\n",
    "# Fill in the ...\n",
    "mt...\n",
    "```\n",
    "\n",
    "</details>\n"
   ]
  },
  {
   "cell_type": "markdown",
   "metadata": {},
   "source": [
    "<details>\n",
    "<summary>Click here to view/hide Solution</summary>\n",
    "<p>\n",
    "\n",
    "```\n",
    "mtcars\n",
    "```\n",
    "\n",
    "</details>\n"
   ]
  },
  {
   "cell_type": "markdown",
   "metadata": {},
   "source": [
    "We will load this data into a table in our database. Note in the output above that mpg, cyl, etc. are column names but the that the car name doesn't have a column label. That's because it isn't actually a real column in the mtcars dataframe, rather its a special column that indictes the rownames.\n"
   ]
  },
  {
   "cell_type": "markdown",
   "metadata": {},
   "source": [
    "Now, use the as.ida.data.frame() function to create a new table in the database that inputs the data from the newmtcars dataframe. This function creates an IDA data frame from a local R dataframe by creating a table in the database.\n",
    "<br>\n",
    "\n",
    "<div class=\"alert alert-block alert-info\" style=\"margin-top: 20px\">\n",
    "<b>Usage</b><br>\n",
    "as.ida.data.frame(x, table=NULL, clear.existing=FALSE, case.sensitive=TRUE,\n",
    "rownames=NULL, dbname=NULL, asAOT=FALSE)<br>\n",
    "<br>\n",
    "<b>Arguments</b><br>\n",
    "<i>x</i> - The name of the input object.<br>\n",
    "<i>table</i> - The name of the table to be created.<br>\n",
    "<i>clear.existing</i> - Indicates whether the existing table is to be dropped (TRUE).<br>\n",
    "<i>case.sensitive</i> - Specifies whether the column names to be treated as case-sensitive (TRUE). <br>\n",
    "<i>rownames</i> - The name of the column for the unique row id. If NULL, not added.<br>\n",
    "dbname, asAOT - Parameters for DB2 on z/OS\n",
    "</div>\n"
   ]
  },
  {
   "cell_type": "markdown",
   "metadata": {},
   "source": [
    "Replace the code below with functional parameters.\n"
   ]
  },
  {
   "cell_type": "code",
   "execution_count": null,
   "metadata": {
    "collapsed": false,
    "jupyter": {
     "outputs_hidden": false
    }
   },
   "outputs": [],
   "source": []
  },
  {
   "cell_type": "markdown",
   "metadata": {},
   "source": [
    "<details>\n",
    "<summary>Click here to view/hide hint</summary>\n",
    "<p>\n",
    "\n",
    "```\n",
    "# Fill in the ...\n",
    "tableName <- \"...\"\n",
    "idf <- as.ida.dataframe(...)\n",
    "idf\n",
    "```\n",
    "\n",
    "</details>\n"
   ]
  },
  {
   "cell_type": "markdown",
   "metadata": {},
   "source": [
    "<details>\n",
    "<summary>Click here to view/hide solution</summary>\n",
    "<p>\n",
    "\n",
    "```\n",
    "tableName <- \"MTCARS\"\n",
    "as.ida.data.frame(mtcars, table=tableName, clear.existing=TRUE, rownames=\"carname\")\n",
    "```\n",
    "\n",
    "</details>\n"
   ]
  },
  {
   "cell_type": "markdown",
   "metadata": {},
   "source": [
    "Now let's use idaQuery() to check if a table was created in the database with the mtcars data.  This function can run any SQL query on the database and put the results into a dataframe.\n",
    "<br>\n",
    "\n",
    "<div class=\"alert alert-block alert-info\" style=\"margin-top: 20px\">\n",
    "<b>Usage</b><br>\n",
    "idaQuery(..., as.is=TRUE, na.strings = \"NA\")<br>\n",
    "<br>\n",
    "<b>Arguments</b><br>\n",
    "as.is - \n",
    "Specifies whether the result columns are to be converted using RODBC type\n",
    "conversions (as.is=FALSE) or left unconverted (as.is=TRUE).<br>\n",
    "na.strings - character vector of strings to be mapped to NA when reading character data.<br>\n",
    "</div>\n"
   ]
  },
  {
   "cell_type": "markdown",
   "metadata": {},
   "source": [
    "Replace the ... with your query to fetch the contents of the MTCARS table.\n"
   ]
  },
  {
   "cell_type": "code",
   "execution_count": null,
   "metadata": {},
   "outputs": [],
   "source": []
  },
  {
   "cell_type": "markdown",
   "metadata": {},
   "source": [
    "<details>\n",
    "<summary>Click here to view/hide hint</summary>\n",
    "<p>\n",
    "\n",
    "```\n",
    "# Fill in the ...\n",
    "mtcarsdb <- idaQuery(...)\n",
    "mtcarsdb\n",
    "```\n",
    "\n",
    "</details>\n"
   ]
  },
  {
   "cell_type": "markdown",
   "metadata": {},
   "source": [
    "<details>\n",
    "<summary>Click here to view/hide solution</summary>\n",
    "<p>\n",
    "\n",
    "```\n",
    "mtcarsdb <- idaQuery(\"SELECT * FROM \",tableName)\n",
    "mtcarsdb\n",
    "```\n",
    "\n",
    "</details>\n"
   ]
  },
  {
   "cell_type": "markdown",
   "metadata": {},
   "source": [
    "<a id=\"refe\"></a>\n",
    "\n",
    "<h3>e. Analyze the data</h3>\n",
    "<br>\n",
    "As you have seen above you can use ibmdbR to put data into the database and run queries against the database. The key benefit of ibmdbR, however, lies in being able to perform in-database analytics. That is, \"pushing down many basic and complex R operations into the database, which removes the main memory boundary of R and allows you to make full use of parallel processing in the underlying database\". \n",
    "\n",
    "Let's first create a dataframe referencing the MTCARS table in the database. <br>NOTE: We could use the 'idf' dataframe that we created above to store the mtcars data in the database but this shows another way.\n"
   ]
  },
  {
   "cell_type": "code",
   "execution_count": null,
   "metadata": {
    "collapsed": false,
    "jupyter": {
     "outputs_hidden": false
    }
   },
   "outputs": [],
   "source": []
  },
  {
   "cell_type": "markdown",
   "metadata": {},
   "source": [
    "<details>\n",
    "<summary>Click here to view/hide hint</summary>\n",
    "<p>\n",
    "\n",
    "```\n",
    "# Fill in the ...\n",
    "id... <- ida.data....(...)\n",
    "```\n",
    "\n",
    "</details>\n"
   ]
  },
  {
   "cell_type": "markdown",
   "metadata": {},
   "source": [
    "<details>\n",
    "<summary>Click here to view/hide solution</summary>\n",
    "<p>\n",
    "\n",
    "```\n",
    "idf2 <- ida.data.frame(tableName)\n",
    "```\n",
    "\n",
    "</details>\n"
   ]
  },
  {
   "cell_type": "markdown",
   "metadata": {},
   "source": [
    "Note that an in database dataframe like idf2 is just a pointer to the object(s) in database. Therefore the following will not display the data.\n"
   ]
  },
  {
   "cell_type": "code",
   "execution_count": null,
   "metadata": {
    "collapsed": false,
    "jupyter": {
     "outputs_hidden": false
    }
   },
   "outputs": [],
   "source": []
  },
  {
   "cell_type": "markdown",
   "metadata": {},
   "source": [
    "<details>\n",
    "<summary>Click here to view/hide hint</summary>\n",
    "<p>\n",
    "\n",
    "```\n",
    "# Fill in the ...\n",
    "i...2\n",
    "```\n",
    "\n",
    "</details>\n"
   ]
  },
  {
   "cell_type": "markdown",
   "metadata": {},
   "source": [
    "<details>\n",
    "<summary>Click here to view/hide solution</summary>\n",
    "<p>\n",
    "\n",
    "```\n",
    "idf2 \n",
    "```\n",
    "\n",
    "</details>\n"
   ]
  },
  {
   "cell_type": "markdown",
   "metadata": {},
   "source": [
    "If you want to see the data referenced by the dataframe you can use a function like head() to examine the first few rows:\n"
   ]
  },
  {
   "cell_type": "code",
   "execution_count": null,
   "metadata": {
    "collapsed": false,
    "jupyter": {
     "outputs_hidden": false
    }
   },
   "outputs": [],
   "source": []
  },
  {
   "cell_type": "markdown",
   "metadata": {},
   "source": [
    "<details>\n",
    "<summary>Click here to view/hide hint</summary>\n",
    "<p>\n",
    "\n",
    "```\n",
    "# Fill in the ...\n",
    "head(...)\n",
    "```\n",
    "\n",
    "</details>\n"
   ]
  },
  {
   "cell_type": "markdown",
   "metadata": {},
   "source": [
    "<details>\n",
    "<summary>Click here to view/hide solution</summary>\n",
    "<p>\n",
    "\n",
    "```\n",
    "head(idf2)\n",
    "```\n",
    "\n",
    "</details>\n"
   ]
  },
  {
   "cell_type": "markdown",
   "metadata": {},
   "source": [
    "Now let's use one of the built-in analytic functions such as idaKMeans() on this in-database dataframe created above on MTCARS table. Just like kmeans(), idaKMeans() is used for analyzing  clustering on the data. \n",
    "\n",
    "PS: Although we will utilize the sample mtcars dataset in the database, appreciate the advantages of in-database analytics if this was a very large dataset.\n"
   ]
  },
  {
   "cell_type": "markdown",
   "metadata": {},
   "source": [
    "<br>\n",
    "<div class=\"alert alert-block alert-info\" style=\"margin-top: 20px\">\n",
    "<b>idaKMeans</b><br>\n",
    "This function generates a k-means clustering model based on the contents of a IDA data frame.<br><br>\n",
    "<b>Usage</b><br>\n",
    "idaKMeans(\n",
    "data,\n",
    "id,\n",
    "k=3,\n",
    "maxiter=5,\n",
    "distance=\"euclidean\",\n",
    "outtable=NULL,\n",
    "randseed=12345,\n",
    "statistics=NULL,\n",
    "modelname=NULL\n",
    ")<br>\n",
    "<br>\n",
    "<b>Arguments</b><br>\n",
    "data - An IDA data frame that contains the input data for the function.<br> \n",
    "id - The name of the column that contains a unique ID for each row of the input data.<br>\n",
    "k - The number of clusters to be calculated. <br>\n",
    "maxiter - The maximum number of iterations to be used to calculate the k-means clusters. <br>\n",
    "distance - The distance function that is to be used. e.g.: \n",
    "\"euclidean\" or \"norm_euclidean\"<br>\n",
    "outtable - The name of the output table that is to contain the results of the operation. <br>\n",
    "randseed - The seed for the random number generator. <br>\n",
    "statistics - Denotes which statistics to calculate. e.g. \n",
    "\"none\", \"columns\" and \"all\" or NULL<br>\n",
    "modelname - The name under which the model is stored in the database. This is the name that is specified when using functions such as idaRetrieveModel or idaDropModel.<br>\n",
    "object - An object of the class idaKMeans to be used for prediction, i.e.  for applying it to new data.<br>\n",
    "x - An object of the class idaKMeans to be printed.<br>\n",
    "newdata - A IDA data frame that contains the data to which to apply the model.<br>\n",
    "... -  Additional parameters to pass to the print or predict method.\n"
   ]
  },
  {
   "cell_type": "markdown",
   "metadata": {},
   "source": [
    "Now run K-Means with k=4 clusters on the mtcars dataset in the database; replace the ... with your own parameters and then print the model.\n"
   ]
  },
  {
   "cell_type": "code",
   "execution_count": null,
   "metadata": {
    "collapsed": false,
    "jupyter": {
     "outputs_hidden": false
    }
   },
   "outputs": [],
   "source": []
  },
  {
   "cell_type": "markdown",
   "metadata": {},
   "source": [
    "<details>\n",
    "<summary>Click here to view/hide hint</summary>\n",
    "<p>\n",
    "\n",
    "```\n",
    "# Fill in the ...\n",
    "#now run kmeans with k=4 clusters on the mtcars dataset in the database \n",
    "kclusters=...\n",
    "#replace ... with your parameters\n",
    "km <- idaKMeans (idf2, ...)\n",
    "print(...) #Print ...\n",
    "```\n",
    "\n",
    "</details>\n"
   ]
  },
  {
   "cell_type": "markdown",
   "metadata": {},
   "source": [
    "<details>\n",
    "<summary>Click here to view/hide solution</summary>\n",
    "<p>\n",
    "\n",
    "```\n",
    "# drop this model in case it already exists e.g. re-running the cell\n",
    "idaDropModel(\"KMEANSMODEL\") \n",
    "kclusters=4\n",
    "#Create a kmeans model stored in the database as KMEANSMODEL:\n",
    "km <- idaKMeans(idf2, id=\"carname\", k=kclusters, modelname=\"KMEANSMODEL\")\n",
    "print(km) #Print the model\n",
    "```\n",
    "\n",
    "</details>\n"
   ]
  },
  {
   "cell_type": "markdown",
   "metadata": {},
   "source": [
    "Predict the model. Replace the ... with the code to predict the model.\n"
   ]
  },
  {
   "cell_type": "code",
   "execution_count": null,
   "metadata": {
    "collapsed": false,
    "jupyter": {
     "outputs_hidden": false
    }
   },
   "outputs": [],
   "source": []
  },
  {
   "cell_type": "markdown",
   "metadata": {},
   "source": [
    "<details>\n",
    "<summary>Click here to view/hide hint</summary>\n",
    "<p>\n",
    "\n",
    "```\n",
    "# Fill in the ...\n",
    "pred <- pred...(km,...2,id=\"carname\")\n",
    "....(pred,...)\n",
    "```\n",
    "\n",
    "</details>\n"
   ]
  },
  {
   "cell_type": "markdown",
   "metadata": {},
   "source": [
    "<details>\n",
    "<summary>Click here to view/hide solution</summary>\n",
    "<p>\n",
    "\n",
    "```\n",
    "pred <- predict(km,idf2,id=\"carname\")\n",
    "head(pred,10)\n",
    "```\n",
    "\n",
    "</details>\n"
   ]
  },
  {
   "cell_type": "markdown",
   "metadata": {},
   "source": [
    "Now let's visualize the clustering analysis using ggplot2. You need to fix the code as indicated.\n"
   ]
  },
  {
   "cell_type": "code",
   "execution_count": null,
   "metadata": {
    "collapsed": false,
    "jupyter": {
     "outputs_hidden": false
    }
   },
   "outputs": [],
   "source": []
  },
  {
   "cell_type": "markdown",
   "metadata": {},
   "source": [
    "<details>\n",
    "<summary>Click here to view/hide hint</summary>\n",
    "<p>\n",
    "\n",
    "```\n",
    "# Fill in the ...\n",
    "#FIX THIS CELL\n",
    "#Not working with idf2 and km\n",
    "#data(idf2)\n",
    "library(gg...2)\n",
    "x <- t...(idf2$...,km$cluster,...)\n",
    "y <- t...(idf2$...,km$cluster,...)\n",
    "kcenters <- data....(x,...)\n",
    "ggplot(id...,aes(...,hp))+geom_...(col=km$...,size=...) +  \n",
    "    geom_point(...=kcenters,aes(...,...),pch=...,size=...,colour=...:k...)\n",
    "```\n",
    "\n",
    "</details>\n"
   ]
  },
  {
   "cell_type": "markdown",
   "metadata": {},
   "source": [
    "<details>\n",
    "<summary>Click here to view/hide solution</summary>\n",
    "<p>\n",
    "\n",
    "```\n",
    "#FIX THIS CELL\n",
    "#Not working with idf2 and km\n",
    "#data(idf2)\n",
    "library(ggplot2)\n",
    "x <- tapply(idf2$mpg,km$cluster,mean)\n",
    "y <- tapply(idf2$hp,km$cluster,mean)\n",
    "kcenters <- data.frame(x,y)\n",
    "ggplot(idf2,aes(mpg,hp))+geom_point(col=km$cluster,size=4) +  \n",
    "    geom_point(data=kcenters,aes(x,y),pch=8,size=10,colour=1:kclusters)\n",
    "```\n",
    "\n",
    "</details>\n"
   ]
  },
  {
   "cell_type": "markdown",
   "metadata": {},
   "source": [
    "<a id=\"reff\"></a>\n",
    "\n",
    "<h3>f. Dis-connect</h3>\n"
   ]
  },
  {
   "cell_type": "markdown",
   "metadata": {},
   "source": [
    "Add the code to disconnect from the databse.\n"
   ]
  },
  {
   "cell_type": "code",
   "execution_count": null,
   "metadata": {},
   "outputs": [],
   "source": []
  },
  {
   "cell_type": "markdown",
   "metadata": {},
   "source": [
    "<details>\n",
    "<summary>Click here to view/hide hint</summary>\n",
    "<p>\n",
    "\n",
    "```\n",
    "# Fill in the ...\n",
    "ida...(...)\n",
    "```\n",
    "\n",
    "</details>\n"
   ]
  },
  {
   "cell_type": "markdown",
   "metadata": {},
   "source": [
    "<details>\n",
    "<summary>Click here to view/hide solution</summary>\n",
    "<p>\n",
    "\n",
    "```\n",
    "idaClose(con)\n",
    "```\n",
    "\n",
    "</details>\n"
   ]
  },
  {
   "cell_type": "markdown",
   "metadata": {},
   "source": [
    "<a id=\"ref6o\"></a>\n",
    "\n",
    "<h3>Summary</h3>\n"
   ]
  },
  {
   "cell_type": "markdown",
   "metadata": {},
   "source": [
    "In this lab you performed K-Means clustering analysis on a sample dataset using the ibmdbR library with an R notebook in Jupyter.\n"
   ]
  },
  {
   "cell_type": "markdown",
   "metadata": {},
   "source": [
    "<hr>\n",
    "\n",
    "#### Thank-you for completing this lab on K-Means Clustering.\n"
   ]
  },
  {
   "cell_type": "markdown",
   "metadata": {},
   "source": [
    "<hr>\n",
    "\n",
    "## Authors\n",
    "\n",
    "-   [Rav Ahuja](https://ca.linkedin.com/in/rav-ahuja-8aa4562a?cm_mmc=Email_Newsletter-_-Developer_Ed%2BTech-_-WW_WW-_-SkillsNetwork-Courses-IBMDeveloperSkillsNetwork-RP0103EN-SkillsNetwork-23619267&cm_mmca1=000026UJ&cm_mmca2=10006555&cm_mmca3=M12345678&cvosrc=email.Newsletter.M12345678&cvo_campaign=000026UJ&cm_mmc=Email_Newsletter-_-Developer_Ed%2BTech-_-WW_WW-_-SkillsNetwork-Courses-IBMDeveloperSkillsNetwork-RP0103EN-SkillsNetwork-23619267&cm_mmca1=000026UJ&cm_mmca2=10006555&cm_mmca3=M12345678&cvosrc=email.Newsletter.M12345678&cvo_campaign=000026UJ)\n",
    "-   [Agatha Colangelo](https://www.linkedin.com/in/agathacolangelo?cm_mmc=Email_Newsletter-_-Developer_Ed%2BTech-_-WW_WW-_-SkillsNetwork-Courses-IBMDeveloperSkillsNetwork-RP0103EN-SkillsNetwork-23619267&cm_mmca1=000026UJ&cm_mmca2=10006555&cm_mmca3=M12345678&cvosrc=email.Newsletter.M12345678&cvo_campaign=000026UJ&cm_mmc=Email_Newsletter-_-Developer_Ed%2BTech-_-WW_WW-_-SkillsNetwork-Courses-IBMDeveloperSkillsNetwork-RP0103EN-SkillsNetwork-23619267&cm_mmca1=000026UJ&cm_mmca2=10006555&cm_mmca3=M12345678&cvosrc=email.Newsletter.M12345678&cvo_campaign=000026UJ)\n",
    "-   [Sandip Saha Joy](https://www.linkedin.com/in/sandipsahajoy?cm_mmc=Email_Newsletter-_-Developer_Ed%2BTech-_-WW_WW-_-SkillsNetwork-Courses-IBMDeveloperSkillsNetwork-RP0103EN-SkillsNetwork-23619267&cm_mmca1=000026UJ&cm_mmca2=10006555&cm_mmca3=M12345678&cvosrc=email.Newsletter.M12345678&cvo_campaign=000026UJ&cm_mmc=Email_Newsletter-_-Developer_Ed%2BTech-_-WW_WW-_-SkillsNetwork-Courses-IBMDeveloperSkillsNetwork-RP0103EN-SkillsNetwork-23619267&cm_mmca1=000026UJ&cm_mmca2=10006555&cm_mmca3=M12345678&cvosrc=email.Newsletter.M12345678&cvo_campaign=000026UJ)\n",
    "\n",
    "## Changelog\n",
    "\n",
    "| Date (YYYY-MM-DD) | Version | Changed By                   | Change Description                 |\n",
    "| ----------------- | ------- | ---------------------------- | ---------------------------------- |\n",
    "| 2021-01-22        | 2.0     | Sandip Saha Joy              | Created revised version of the lab |\n",
    "| 2017              | 1.0     | Rav Ahuja & Agatha Colangelo | Created initial version of the lab |\n",
    "\n",
    "<hr>\n",
    "\n",
    "<h2 align=center><font size = 5>Copyright &copy; IBM Corporation 2017-2021. All rights reserved.</h2>\n"
   ]
  }
 ],
 "metadata": {
  "kernelspec": {
   "display_name": "R",
   "language": "R",
   "name": "conda-env-r-r"
  },
  "language_info": {
   "codemirror_mode": "r",
   "file_extension": ".r",
   "mimetype": "text/x-r-source",
   "name": "R",
   "pygments_lexer": "r",
   "version": "3.5.1"
  },
  "widgets": {
   "state": {},
   "version": "1.1.2"
  }
 },
 "nbformat": 4,
 "nbformat_minor": 4
}
